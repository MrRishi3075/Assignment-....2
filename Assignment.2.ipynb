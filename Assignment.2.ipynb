{
 "cells": [
  {
   "cell_type": "markdown",
   "id": "173995bf-5761-4766-9e39-4bf61cba1fe9",
   "metadata": {},
   "source": [
    "Q1. How do you comment code in Python? What are the different types of comments?"
   ]
  },
  {
   "cell_type": "code",
   "execution_count": 1,
   "id": "a0cab0a2-66c6-430a-9ed1-eb8ebeaaf6ac",
   "metadata": {},
   "outputs": [
    {
     "ename": "SyntaxError",
     "evalue": "'(' was never closed (1500882095.py, line 1)",
     "output_type": "error",
     "traceback": [
      "\u001b[0;36m  Cell \u001b[0;32mIn[1], line 1\u001b[0;36m\u001b[0m\n\u001b[0;31m    Python Me Comment Add Karne Ke Liye Kisi bhi Code Ke starting Me ( ## ) Add Kar Diya Jata hai\u001b[0m\n\u001b[0m                                                                     ^\u001b[0m\n\u001b[0;31mSyntaxError\u001b[0m\u001b[0;31m:\u001b[0m '(' was never closed\n"
     ]
    }
   ],
   "source": [
    "Python Me Comment Add Karne Ke Liye Kisi bhi Code Ke starting Me ( ## ) Add Kar Diya Jata hai\n",
    "Second Method \"\"\" \"\"\" Ke Andar Me Comment Ko Write kiya jata hai"
   ]
  },
  {
   "cell_type": "code",
   "execution_count": 7,
   "id": "a358145d-183e-45c2-a27e-5f08471a86fd",
   "metadata": {},
   "outputs": [
    {
     "data": {
      "text/plain": [
       "'Hello Sir My name Is Rishikesh Kumar , I Am From Bihar'"
      ]
     },
     "execution_count": 7,
     "metadata": {},
     "output_type": "execute_result"
    }
   ],
   "source": [
    "##Exmple :- \n",
    "\"\"\"Hello Sir My name Is Rishikesh Kumar , I Am From Bihar\"\"\""
   ]
  },
  {
   "cell_type": "markdown",
   "id": "1f5d90e0-7a78-428e-b802-fa981baf2023",
   "metadata": {},
   "source": [
    "Q2. What are variables in Python? How do you declare and assign values to variables?"
   ]
  },
  {
   "cell_type": "raw",
   "id": "771d5927-45c1-4e6d-aafa-9f33ff4f70c0",
   "metadata": {},
   "source": [
    "In Python, variables are used to store and manipulate data. A variable is essentially a named container that holds a value, such as a number, string, or object. You can think of variables as labels or placeholders for values.\n",
    "\n",
    "To declare a variable in Python, you simply choose a name for the variable and use the assignment operator (=) to assign a value to it. Here's the general syntax:"
   ]
  },
  {
   "cell_type": "raw",
   "id": "bb5ab787-5b2d-49ae-ab3e-be15ece58b93",
   "metadata": {},
   "source": [
    "For example, let's declare a variable named age and assign the value 25 to it:"
   ]
  },
  {
   "cell_type": "code",
   "execution_count": 8,
   "id": "93f3faf8-4a70-4426-9840-aaa22ad4cc4d",
   "metadata": {},
   "outputs": [],
   "source": [
    "age = 25\n"
   ]
  },
  {
   "cell_type": "raw",
   "id": "6b3764f1-6e79-4f36-8118-3c97da6ccb40",
   "metadata": {},
   "source": [
    "In this case, age is the variable name, and 25 is the value assigned to it.\n",
    "\n",
    "Python is a dynamically typed language, which means you don't need to specify the type of a variable explicitly. The type is inferred based on the value assigned to the variable."
   ]
  },
  {
   "cell_type": "raw",
   "id": "29ef30c1-e57c-46b5-aa0f-07b4c8630086",
   "metadata": {},
   "source": [
    "You can assign different types of values to variables. For instance:"
   ]
  },
  {
   "cell_type": "code",
   "execution_count": 10,
   "id": "6682d269-dd0b-4781-875d-51031451acc4",
   "metadata": {},
   "outputs": [],
   "source": [
    "name = \"John\"  # Assigning a string value\n",
    "pi = 3.14     # Assigning a floating-point value\n",
    "is_student = True  # Assigning a boolean value\n",
    "r= 45            # Assigning a int value"
   ]
  },
  {
   "cell_type": "raw",
   "id": "7fefa386-56a5-40d9-935e-8c4e6b0b6270",
   "metadata": {},
   "source": [
    "Variables can also be reassigned with new values later in the program. For example:"
   ]
  },
  {
   "cell_type": "code",
   "execution_count": 12,
   "id": "b825722f-159b-48de-a6d4-99a3b06dd8c9",
   "metadata": {},
   "outputs": [
    {
     "name": "stdout",
     "output_type": "stream",
     "text": [
      "25\n",
      "30\n"
     ]
    }
   ],
   "source": [
    "age = 25\n",
    "print(age)  # Output: 25\n",
    "\n",
    "age = 30\n",
    "print(age)  # Output: 30\n"
   ]
  },
  {
   "cell_type": "markdown",
   "id": "f06540dc-e2ef-471e-8495-35febc746f1f",
   "metadata": {},
   "source": [
    "In this example, the variable age is first assigned the value 25, and later it is reassigned the value 30."
   ]
  },
  {
   "cell_type": "raw",
   "id": "fdf19eda-ffa9-484e-a7e9-9fefe46b6a3d",
   "metadata": {},
   "source": [
    "Additionally, Python allows multiple assignment, where you can assign values to multiple variables in a single line. For example:"
   ]
  },
  {
   "cell_type": "code",
   "execution_count": 13,
   "id": "752d5fad-18f8-4444-9fe0-c68e4928f82d",
   "metadata": {},
   "outputs": [],
   "source": [
    "x, y, z = 1, 2, 3\n"
   ]
  },
  {
   "cell_type": "code",
   "execution_count": 14,
   "id": "409e7796-d8fc-425c-94bb-cc725b65a4d8",
   "metadata": {},
   "outputs": [
    {
     "data": {
      "text/plain": [
       "1"
      ]
     },
     "execution_count": 14,
     "metadata": {},
     "output_type": "execute_result"
    }
   ],
   "source": [
    "x"
   ]
  },
  {
   "cell_type": "code",
   "execution_count": 15,
   "id": "f371eda4-40a5-43cb-880a-12fab17c53c0",
   "metadata": {},
   "outputs": [
    {
     "data": {
      "text/plain": [
       "2"
      ]
     },
     "execution_count": 15,
     "metadata": {},
     "output_type": "execute_result"
    }
   ],
   "source": [
    "y"
   ]
  },
  {
   "cell_type": "code",
   "execution_count": 16,
   "id": "79ee79d4-2685-4113-b760-11ecee03b9d9",
   "metadata": {},
   "outputs": [
    {
     "data": {
      "text/plain": [
       "3"
      ]
     },
     "execution_count": 16,
     "metadata": {},
     "output_type": "execute_result"
    }
   ],
   "source": [
    "z"
   ]
  },
  {
   "cell_type": "markdown",
   "id": "2b7da852-57d2-4c1c-9c35-dd47285fa386",
   "metadata": {},
   "source": [
    "Q3. How do you convert one data type to another in Python?"
   ]
  },
  {
   "cell_type": "raw",
   "id": "64c92676-e8de-436d-8e0f-19e6baa27ae3",
   "metadata": {},
   "source": [
    "you can convert one data type to another using type conversion functions or techniques. Here are some common methods for data type conversion:\n",
    "\n",
    "Implicit Type Conversion (Coercion): Python automatically performs implicit type conversion when an operation involves different data types. For example, if you add an integer and a float, Python will automatically convert the integer to a float before performing the addition. This type of conversion is also known as coercion."
   ]
  },
  {
   "cell_type": "code",
   "execution_count": 17,
   "id": "21794a15-caef-4384-aaec-c7a9f95f6d34",
   "metadata": {},
   "outputs": [
    {
     "name": "stdout",
     "output_type": "stream",
     "text": [
      "8.14\n"
     ]
    }
   ],
   "source": [
    "a= 5\n",
    "b = 3.14\n",
    "\n",
    "result =a+ b \n",
    "print(result) \n"
   ]
  },
  {
   "cell_type": "markdown",
   "id": "c62116f5-a5d3-4a99-8c13-243117a2a97f",
   "metadata": {},
   "source": [
    "Python convert Int to Float then added."
   ]
  },
  {
   "cell_type": "raw",
   "id": "00dbe0fc-d022-442a-b960-7b2e01262ab5",
   "metadata": {},
   "source": [
    "Explicit Type Conversion (Type Casting): You can explicitly convert one data type to another using type casting functions. These functions allow you to convert variables from one type to another by specifying the target type. The commonly used type casting functions are:\n",
    "int(): Converts a value to an integer.\n",
    "float(): Converts a value to a float.\n",
    "str(): Converts a value to a string.\n",
    "bool(): Converts a value to a boolean."
   ]
  },
  {
   "cell_type": "code",
   "execution_count": 19,
   "id": "62e8b409-3fa3-4829-8ec6-439a1f7597f3",
   "metadata": {},
   "outputs": [
    {
     "name": "stdout",
     "output_type": "stream",
     "text": [
      "10\n",
      "10.0\n",
      "True\n"
     ]
    }
   ],
   "source": [
    "A= \"10\"\n",
    "B = int(A)  \n",
    "print(B)  \n",
    "\n",
    "C = float(B) \n",
    "print(C)  \n",
    "\n",
    "D = bool(C) \n",
    "print(D)  \n"
   ]
  },
  {
   "cell_type": "raw",
   "id": "54077e5c-1f7e-4bea-be83-ced88bcc4b85",
   "metadata": {},
   "source": [
    "Explicit conversion from string to int\n",
    "Explicit conversion from int to float\n",
    "Explicit conversion from float to boolean"
   ]
  },
  {
   "cell_type": "markdown",
   "id": "1f1b4ea7-339e-4204-81b7-d402ee6c6d28",
   "metadata": {},
   "source": [
    "Using String Formatting: You can convert values to strings using string formatting techniques. The format() method or f-strings (formatted string literals) can be used to insert values of different types into a string."
   ]
  },
  {
   "cell_type": "code",
   "execution_count": 20,
   "id": "1d8e90f4-b821-4002-b3b0-834390f11f90",
   "metadata": {},
   "outputs": [
    {
     "name": "stdout",
     "output_type": "stream",
     "text": [
      "My name is John and I am 25 years old\n",
      "My name is John and I am 25 years old\n"
     ]
    }
   ],
   "source": [
    "age = 25\n",
    "name = \"John\"\n",
    "\n",
    "# Using format() method\n",
    "message = \"My name is {} and I am {} years old\".format(name, age)\n",
    "print(message)  # Output: My name is John and I am 25 years old\n",
    "\n",
    "# Using f-string\n",
    "message = f\"My name is {name} and I am {age} years old\"\n",
    "print(message)  # Output: My name is John and I am 25 years old\n"
   ]
  },
  {
   "cell_type": "markdown",
   "id": "bc21bb4d-c56a-478d-ab59-4b5b328d627c",
   "metadata": {},
   "source": [
    "Using Built-in Functions: Python provides built-in functions like list(), tuple(), set(), and dict() to convert objects to corresponding data types."
   ]
  },
  {
   "cell_type": "code",
   "execution_count": 21,
   "id": "ab76625e-9212-4b11-b5cb-2376987657d3",
   "metadata": {},
   "outputs": [
    {
     "name": "stdout",
     "output_type": "stream",
     "text": [
      "['1', '2', '3', '4', '5']\n",
      "('1', '2', '3', '4', '5')\n"
     ]
    }
   ],
   "source": [
    "num = 12345\n",
    "\n",
    "# Convert to a list\n",
    "num_list = list(str(num))\n",
    "print(num_list)  # Output: ['1', '2', '3', '4', '5']\n",
    "\n",
    "# Convert to a tuple\n",
    "num_tuple = tuple(str(num))\n",
    "print(num_tuple)  # Output: ('1', '2', '3', '4', '5')\n"
   ]
  },
  {
   "cell_type": "raw",
   "id": "bb0e5345-2e5e-4b05-b838-b13743421a1b",
   "metadata": {},
   "source": [
    "These are some of the commonly used methods for converting one data type to another in Python. The appropriate method to use depends on the specific conversion you want to perform."
   ]
  },
  {
   "cell_type": "markdown",
   "id": "46948520-6b32-4807-b6f2-ec354714666b",
   "metadata": {},
   "source": [
    "Q4. How do you write and execute a Python script from the command line?"
   ]
  },
  {
   "cell_type": "code",
   "execution_count": null,
   "id": "e5725fc1-b9ed-4987-b9ef-9e25a141831c",
   "metadata": {},
   "outputs": [],
   "source": []
  },
  {
   "cell_type": "code",
   "execution_count": null,
   "id": "d0522dc9-2c5f-4203-a00b-0892ec4203bc",
   "metadata": {},
   "outputs": [],
   "source": []
  },
  {
   "cell_type": "code",
   "execution_count": null,
   "id": "634ba8f7-f0dd-4f1f-a29a-dee84562567f",
   "metadata": {},
   "outputs": [],
   "source": []
  },
  {
   "cell_type": "code",
   "execution_count": null,
   "id": "7243d809-2d37-4fd9-9ec8-8ee8c96571b0",
   "metadata": {},
   "outputs": [],
   "source": []
  },
  {
   "cell_type": "code",
   "execution_count": null,
   "id": "5afdaf52-8465-4fa9-8ef0-0721e0dd6940",
   "metadata": {},
   "outputs": [],
   "source": []
  },
  {
   "cell_type": "markdown",
   "id": "6b719cc9-e7d6-41d8-b723-3ed844154936",
   "metadata": {},
   "source": [
    "Q5. Given a list my_list = [1, 2, 3, 4, 5], write the code to slice the list and obtain the sub-list [2, 3]."
   ]
  },
  {
   "cell_type": "code",
   "execution_count": 23,
   "id": "0bd6d004-8b95-4056-b216-3708e5bc79db",
   "metadata": {},
   "outputs": [
    {
     "name": "stdout",
     "output_type": "stream",
     "text": [
      "[2, 3]\n"
     ]
    }
   ],
   "source": [
    "my_list = [1, 2, 3, 4, 5]\n",
    "\n",
    "sub_list = my_list[1:3] \n",
    "\n",
    "print(sub_list) "
   ]
  },
  {
   "cell_type": "markdown",
   "id": "f87dcfa8-86c6-4ef1-bce2-b960e3dc517c",
   "metadata": {},
   "source": [
    "Q6. What is a complex number in mathematics, and how is it represented in Python?"
   ]
  },
  {
   "cell_type": "code",
   "execution_count": 24,
   "id": "718cdc99-8b55-4aeb-a90b-a431ed023e31",
   "metadata": {},
   "outputs": [],
   "source": [
    "z1 = 2 + 3j\n",
    "z2 = -1.5 + 0.5j\n",
    "z3 = 4j\n"
   ]
  },
  {
   "cell_type": "code",
   "execution_count": 29,
   "id": "a4ee59fa-11a0-444e-9633-7c68880fe4e2",
   "metadata": {},
   "outputs": [],
   "source": [
    "# Addition of complex numbers\n",
    "result_add = z1 + z2"
   ]
  },
  {
   "cell_type": "code",
   "execution_count": 34,
   "id": "8dffe929-85dc-47d6-83e6-6f604a42f1ee",
   "metadata": {},
   "outputs": [
    {
     "name": "stdout",
     "output_type": "stream",
     "text": [
      "(0.5+3.5j)\n"
     ]
    }
   ],
   "source": [
    "print(result_add)"
   ]
  },
  {
   "cell_type": "code",
   "execution_count": 31,
   "id": "d31ee1c9-b366-4c3c-a2de-c3a1bb6644ff",
   "metadata": {},
   "outputs": [],
   "source": [
    "# Multiplication of complex numbers\n",
    "result_mul = z1 * z2"
   ]
  },
  {
   "cell_type": "code",
   "execution_count": 33,
   "id": "fcc39180-c9ec-4b51-99d7-cb285632d702",
   "metadata": {},
   "outputs": [
    {
     "name": "stdout",
     "output_type": "stream",
     "text": [
      "(-4.5-3.5j)\n"
     ]
    }
   ],
   "source": [
    "print(result_mul)"
   ]
  },
  {
   "cell_type": "markdown",
   "id": "1db050f0-bb8b-4aa2-a71d-30077ddc943b",
   "metadata": {},
   "source": [
    "Q7. What is the correct way to declare a variable named age and assign the value 25 to it?"
   ]
  },
  {
   "cell_type": "code",
   "execution_count": 45,
   "id": "99d32600-7759-448e-b784-a9b2820c6a7e",
   "metadata": {},
   "outputs": [],
   "source": [
    "Age = 25"
   ]
  },
  {
   "cell_type": "code",
   "execution_count": 48,
   "id": "ef0f0833-7409-46a6-ace0-3ae0ee5dc736",
   "metadata": {},
   "outputs": [
    {
     "data": {
      "text/plain": [
       "25"
      ]
     },
     "execution_count": 48,
     "metadata": {},
     "output_type": "execute_result"
    }
   ],
   "source": [
    "Age  #The correct way to declare a variable named age and assign the value 25 to it in Python is as follows:"
   ]
  },
  {
   "cell_type": "markdown",
   "id": "151bbf17-c183-48bd-8949-1dac1626d991",
   "metadata": {},
   "source": [
    "Q8. Declare a variable named price and assign the value 9.99 to it. What data type does this variable \n",
    "belong to?"
   ]
  },
  {
   "cell_type": "code",
   "execution_count": 51,
   "id": "72fdc61d-2216-4610-a6a3-6f8c52a4c2bf",
   "metadata": {},
   "outputs": [],
   "source": [
    "Price=9.99"
   ]
  },
  {
   "cell_type": "code",
   "execution_count": 52,
   "id": "e0f0c8e9-5006-4602-b440-d3e64d24c2d7",
   "metadata": {},
   "outputs": [
    {
     "data": {
      "text/plain": [
       "9.99"
      ]
     },
     "execution_count": 52,
     "metadata": {},
     "output_type": "execute_result"
    }
   ],
   "source": [
    "Price"
   ]
  },
  {
   "cell_type": "code",
   "execution_count": 53,
   "id": "0a0617b3-f453-4ed4-bdf8-5425d85e21dc",
   "metadata": {},
   "outputs": [
    {
     "data": {
      "text/plain": [
       "float"
      ]
     },
     "execution_count": 53,
     "metadata": {},
     "output_type": "execute_result"
    }
   ],
   "source": [
    "type(Price)"
   ]
  },
  {
   "cell_type": "markdown",
   "id": "c335510b-182d-44c6-90d7-197580479a19",
   "metadata": {},
   "source": [
    "Q9. Create a variable named name and assign your full name to it as a string. How would you print the \n",
    "value of this variable?"
   ]
  },
  {
   "cell_type": "code",
   "execution_count": 54,
   "id": "dd8282e0-0bd8-47a6-8ffc-4702badf9597",
   "metadata": {},
   "outputs": [],
   "source": [
    "Name=\"Rishikesh\""
   ]
  },
  {
   "cell_type": "code",
   "execution_count": 55,
   "id": "c2db5f59-d42d-44b9-b40c-71e9d0c72fd6",
   "metadata": {},
   "outputs": [
    {
     "data": {
      "text/plain": [
       "str"
      ]
     },
     "execution_count": 55,
     "metadata": {},
     "output_type": "execute_result"
    }
   ],
   "source": [
    "type(Name)"
   ]
  },
  {
   "cell_type": "code",
   "execution_count": 56,
   "id": "71a7cf65-9393-46b1-9e43-28429080cee1",
   "metadata": {},
   "outputs": [
    {
     "name": "stdout",
     "output_type": "stream",
     "text": [
      "Rishikesh\n"
     ]
    }
   ],
   "source": [
    "print(Name)"
   ]
  },
  {
   "cell_type": "markdown",
   "id": "92d77384-dfbc-436b-b083-a39ff83e339d",
   "metadata": {},
   "source": [
    "Q10. Given the string \"Hello, World!\", extract the substring \"World\""
   ]
  },
  {
   "cell_type": "code",
   "execution_count": 64,
   "id": "86073977-2cdb-4cec-b94a-122aebf3fbe7",
   "metadata": {},
   "outputs": [],
   "source": [
    "Str= \"Hello , World\"\n"
   ]
  },
  {
   "cell_type": "code",
   "execution_count": 65,
   "id": "32d36bf6-7a65-4bdf-b735-2c4884841370",
   "metadata": {},
   "outputs": [
    {
     "data": {
      "text/plain": [
       "str"
      ]
     },
     "execution_count": 65,
     "metadata": {},
     "output_type": "execute_result"
    }
   ],
   "source": [
    "type(Str)"
   ]
  },
  {
   "cell_type": "markdown",
   "id": "4b9bca75-adf3-4c45-a049-06e9b2f0c730",
   "metadata": {},
   "source": [
    "I can't print substring Please Explain Me How Can Print"
   ]
  },
  {
   "cell_type": "markdown",
   "id": "e82da28d-7230-4493-b677-4c9ea3b2699a",
   "metadata": {},
   "source": [
    "Q11. Create a variable named \"is_student\" and assign it a boolean value indicating whether you are \n",
    "currently a student or not"
   ]
  },
  {
   "cell_type": "code",
   "execution_count": 82,
   "id": "fe9a1854-cbb8-438f-acd6-940bddec2a62",
   "metadata": {},
   "outputs": [],
   "source": [
    "is_student = True\n",
    "is_not_student= False"
   ]
  },
  {
   "cell_type": "code",
   "execution_count": 80,
   "id": "31ed7f3f-d8b8-48bf-9f19-be1147c2fdf6",
   "metadata": {},
   "outputs": [
    {
     "data": {
      "text/plain": [
       "True"
      ]
     },
     "execution_count": 80,
     "metadata": {},
     "output_type": "execute_result"
    }
   ],
   "source": [
    "is_student"
   ]
  },
  {
   "cell_type": "code",
   "execution_count": 83,
   "id": "a007c486-e6d0-4faf-8a9e-40b5fa04d84f",
   "metadata": {},
   "outputs": [
    {
     "data": {
      "text/plain": [
       "False"
      ]
     },
     "execution_count": 83,
     "metadata": {},
     "output_type": "execute_result"
    }
   ],
   "source": [
    "is_not_student"
   ]
  },
  {
   "cell_type": "markdown",
   "id": "cc5d97e9-46c8-480e-9231-30d315e972de",
   "metadata": {},
   "source": [
    "Thanks For Checking My Assignment"
   ]
  },
  {
   "cell_type": "code",
   "execution_count": null,
   "id": "1445e84b-2a36-4a6d-9e1d-8df91d61e8c4",
   "metadata": {},
   "outputs": [],
   "source": []
  }
 ],
 "metadata": {
  "kernelspec": {
   "display_name": "Python 3 (ipykernel)",
   "language": "python",
   "name": "python3"
  },
  "language_info": {
   "codemirror_mode": {
    "name": "ipython",
    "version": 3
   },
   "file_extension": ".py",
   "mimetype": "text/x-python",
   "name": "python",
   "nbconvert_exporter": "python",
   "pygments_lexer": "ipython3",
   "version": "3.10.8"
  }
 },
 "nbformat": 4,
 "nbformat_minor": 5
}
